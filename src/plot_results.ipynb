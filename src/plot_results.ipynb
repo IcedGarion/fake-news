{
 "cells": [
  {
   "cell_type": "code",
   "execution_count": 3,
   "metadata": {},
   "outputs": [
    {
     "data": {
      "text/plain": [
       "array([[<matplotlib.axes._subplots.AxesSubplot object at 0x7f656d0bd690>,\n",
       "        <matplotlib.axes._subplots.AxesSubplot object at 0x7f656d009250>],\n",
       "       [<matplotlib.axes._subplots.AxesSubplot object at 0x7f656d03d110>,\n",
       "        <matplotlib.axes._subplots.AxesSubplot object at 0x7f656cfe7f90>]],\n",
       "      dtype=object)"
      ]
     },
     "execution_count": 3,
     "metadata": {},
     "output_type": "execute_result"
    },
    {
     "data": {
      "image/png": "[encoded data removed]",
      "text/plain": [
       "<Figure size 432x288 with 4 Axes>"
      ]
     },
     "metadata": {},
     "output_type": "display_data"
    }
   ],
   "source": [
    "# scatter plot + box plot (& istogram)\n",
    "\n",
    "# notebook:\n",
    "# Legge dalla directory out/ tutti i file che ci sono (uno per feature) e mettere insieme tutto in uno stesso file\n",
    "# (sicuramente la run di twitter andra' da sola e avra' un file di out a parte: si vuole unire ai file gia' presenti delle altre features:\n",
    "# pandas.join... Metti tutto in un file solo, e poi fai i vari plot.\n",
    "\n",
    "import os, pandas\n",
    "\n",
    "''' FILE IMPORT & JOIN '''\n",
    "# files from \"features_exploration\" out (.csv)\n",
    "out_path = \"..\" + os.sep + \"out\" + os.sep\n",
    "dataframes = []\n",
    "features = []\n",
    "\n",
    "# reads file (= features names = column name)\n",
    "for result_file in os.listdir(out_path):\n",
    "    features.append(result_file)\n",
    "    dataframes.append(pandas.read_csv(out_path + result_file))\n",
    "\n",
    "# directory not empty check\n",
    "if len(dataframes) == 0:\n",
    "    print(\"No csv files in \" + out_path)\n",
    "    exit(1)\n",
    "    \n",
    "# joins all data!\n",
    "final_data = dataframes[0]\n",
    "for dataframe in dataframes[1:]:\n",
    "    final_data = pandas.merge(final_data, dataframe, suffixes=(\"\", \"_fn\"), on=\"id\", how=\"outer\")\n",
    "    \n",
    "# picks only id, label and features columns (mergeing produces also a lot of junk)\n",
    "columns = [\"id\", \"label\"]\n",
    "columns.extend(features)\n",
    "final_data = final_data[columns]\n",
    "\n",
    "\n",
    "''' PLOTTING RESULTS '''\n",
    "\n",
    "# boxplot: distribution of fake - not_fake for every feature\n",
    "final_data.boxplot(by=\"label\", column=features)"
   ]
  },
  {
   "cell_type": "code",
   "execution_count": null,
   "metadata": {},
   "outputs": [],
   "source": [
    "    "
   ]
  }
 ],
 "metadata": {
  "kernelspec": {
   "display_name": "Python 2",
   "language": "python",
   "name": "python2"
  },
  "language_info": {
   "codemirror_mode": {
    "name": "ipython",
    "version": 2
   },
   "file_extension": ".py",
   "mimetype": "text/x-python",
   "name": "python",
   "nbconvert_exporter": "python",
   "pygments_lexer": "ipython2",
   "version": "2.7.13"
  }
 },
 "nbformat": 4,
 "nbformat_minor": 2
}
